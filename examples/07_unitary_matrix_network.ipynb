{
 "cells": [
  {
   "cell_type": "markdown",
   "metadata": {},
   "source": [
    "# Photonic Matrices"
   ]
  },
  {
   "cell_type": "markdown",
   "metadata": {},
   "source": [
    "## Imports"
   ]
  },
  {
   "cell_type": "code",
   "execution_count": 1,
   "metadata": {},
   "outputs": [],
   "source": [
    "# standard library\n",
    "from collections import OrderedDict\n",
    "\n",
    "# photontorch\n",
    "import torch\n",
    "import photontorch as pt\n",
    "\n",
    "# other\n",
    "import numpy as np\n",
    "import matplotlib.pyplot as plt\n",
    "from tqdm.notebook import trange"
   ]
  },
  {
   "cell_type": "markdown",
   "metadata": {},
   "source": [
    "## Settings"
   ]
  },
  {
   "cell_type": "code",
   "execution_count": 2,
   "metadata": {},
   "outputs": [],
   "source": [
    "%matplotlib inline\n",
    "DEVICE = 'cpu'\n",
    "np.random.seed(0)\n",
    "torch.manual_seed(0)\n",
    "np.set_printoptions(precision=2, suppress=True)\n",
    "env = pt.Environment(frequency_domain=True, num_timesteps=1, enable_grad=True)\n",
    "pt.set_environment(env);"
   ]
  },
  {
   "cell_type": "markdown",
   "metadata": {},
   "source": [
    "## Unitary Matrices"
   ]
  },
  {
   "cell_type": "markdown",
   "metadata": {},
   "source": [
    "A unitary matrix is a matrix $U$ for which\n",
    "\\begin{align*}\n",
    "U\\cdot U^\\dagger = U^\\dagger \\cdot U = I\n",
    "\\end{align*}\n",
    "\n",
    "A unitary matrix is easily implemented in photonics. Indeed, according to the paper *\"[Experimental Realization of Any Discrete Unitary Matrix](https://journals.aps.org/prl/abstract/10.1103/PhysRevLett.73.58)\"* by Reck et. al., Any unitary matrix can be written as a combination of phase shifters and directional couplers with variable coupling (or MZI's) (Figure (a))\n",
    "\n",
    "However, there exists an alternative approach to achieve any unitary operation, first proposed by Clements et. al. : [Optimal design for universal multiport interferometers](https://www.osapublishing.org/optica/abstract.cfm?uri=optica-3-12-1460) (Figure (b))\n",
    "\n",
    "![Unitary Matrix Paper](images/clements.jpeg)\n"
   ]
  },
  {
   "cell_type": "markdown",
   "metadata": {},
   "source": [
    "## 2x2 Unitary matrix (Reck)"
   ]
  },
  {
   "cell_type": "markdown",
   "metadata": {},
   "source": [
    "### Functions"
   ]
  },
  {
   "cell_type": "code",
   "execution_count": 3,
   "metadata": {},
   "outputs": [],
   "source": [
    "def array(tensor):\n",
    "    arr = tensor.data.cpu().numpy()\n",
    "    if arr.shape[0] == 2:\n",
    "        arr = arr[0] + 1j * arr[1]\n",
    "    return arr\n",
    "\n",
    "def tensor(array):\n",
    "    if array.dtype == np.complex64 or array.dtype == np.complex128:\n",
    "        array = np.stack([np.real(array), np.imag(array)])\n",
    "    return torch.tensor(array, dtype=torch.get_default_dtype(), device=DEVICE)\n",
    "\n",
    "def rand_phase():\n",
    "    return float(2*np.pi*np.random.rand())\n",
    "\n",
    "class Network(pt.Network):\n",
    "    def handle_source(self, matrix, **kwargs):\n",
    "        expanded_matrix = matrix[:,None,None,:,:]\n",
    "        a,b,c,d,e = expanded_matrix.shape\n",
    "        expanded_matrix = torch.cat([\n",
    "            expanded_matrix,\n",
    "            torch.zeros((a,b,c,self.nmc-d,e), device=expanded_matrix.device),\n",
    "        ], -2)\n",
    "        return expanded_matrix\n",
    "    def forward(self, matrix):\n",
    "        ''' matrix shape = (2, num_sources, num_sources)'''\n",
    "        result = super(Network, self).forward(matrix, power=False)\n",
    "        return result[:,0,0,:,:]\n",
    "    def count_params(self):\n",
    "        num_params = 0\n",
    "        for p in self.parameters():\n",
    "            num_params += int(np.prod(p.shape))\n",
    "        return num_params\n",
    "\n",
    "def unitary_matrix(m,n):\n",
    "    real_part = np.random.rand(m,n)\n",
    "    imag_part = np.random.rand(m,n)\n",
    "    complex_matrix = real_part + 1j*imag_part\n",
    "    if m >= n:\n",
    "        unitary_matrix, _, _ = np.linalg.svd(complex_matrix, full_matrices = False)\n",
    "    else:\n",
    "        _, _, unitary_matrix = np.linalg.svd(complex_matrix, full_matrices = False)\n",
    "    return unitary_matrix"
   ]
  },
  {
   "cell_type": "markdown",
   "metadata": {},
   "source": [
    "### Define Network"
   ]
  },
  {
   "cell_type": "code",
   "execution_count": 4,
   "metadata": {},
   "outputs": [],
   "source": [
    "class Network2x2(Network):\n",
    "    def __init__(self):\n",
    "        super(Network2x2, self).__init__()\n",
    "        self.s1 = pt.Source()\n",
    "        self.s2 = pt.Source()\n",
    "        self.d1 = pt.Detector()\n",
    "        self.d2 = pt.Detector()\n",
    "        self.mzi = pt.Mzi(length=0, phi=rand_phase(), theta=rand_phase(), trainable=True)\n",
    "        self.wg1 = pt.Waveguide(length=0, phase=rand_phase(), trainable=True)\n",
    "        self.wg2 = pt.Waveguide(length=0, phase=rand_phase(), trainable=True)\n",
    "        self.link('s1:0', '0:mzi:1', '0:wg1:1', '0:d1')\n",
    "        self.link('s2:0', '3:mzi:2', '0:wg2:1', '0:d2')\n",
    "        \n",
    "nw2x2 = Network2x2().to(DEVICE).initialize()"
   ]
  },
  {
   "cell_type": "markdown",
   "metadata": {},
   "source": [
    "### Check unitarity"
   ]
  },
  {
   "cell_type": "markdown",
   "metadata": {},
   "source": [
    "To see which unitary matrix the network represents, we search for the result of the propagation of an identity matrix through the network. The power flag was set to false, as we are interested in the full complex output of the system. To show that this matrix is indeed unitary, we multiply with its conjugate transpose:"
   ]
  },
  {
   "cell_type": "code",
   "execution_count": 5,
   "metadata": {},
   "outputs": [
    {
     "name": "stdout",
     "output_type": "stream",
     "text": [
      "[[1.+0.j 0.+0.j]\n",
      " [0.+0.j 1.-0.j]]\n"
     ]
    }
   ],
   "source": [
    "def check_unitarity(nw):\n",
    "    matrix = tensor(np.eye(nw.num_sources) + 0j)\n",
    "    result = array(nw(matrix))\n",
    "    print(result@result.T.conj())\n",
    "\n",
    "check_unitarity(nw2x2)"
   ]
  },
  {
   "cell_type": "markdown",
   "metadata": {},
   "source": [
    "### Check Universality"
   ]
  },
  {
   "cell_type": "markdown",
   "metadata": {},
   "source": [
    "However, it would be more interesting if we can show that this network can act like *any* unitary matrix. We will now train the network to be equal to another unitary matrix by using the unitary property $U\\cdot U^\\dagger=I$: we will train the network to obtain $I$ with $U_0^\\dagger$ as input."
   ]
  },
  {
   "cell_type": "code",
   "execution_count": 6,
   "metadata": {},
   "outputs": [],
   "source": [
    "def check_universality(nw, num_epochs=500, lr=0.1):\n",
    "    matrix_to_approximate = unitary_matrix(nw.num_sources, nw.num_sources)\n",
    "    matrix_input = tensor(matrix_to_approximate.T.conj().copy())\n",
    "    eye = tensor(np.eye(nw.num_sources) + 0j)\n",
    "    optimizer = torch.optim.Adam(nw.parameters(), lr=lr)\n",
    "    lossfunc = torch.nn.MSELoss()\n",
    "    epochs = trange(num_epochs)\n",
    "    for i in epochs:\n",
    "        optimizer.zero_grad()\n",
    "        result = nw(matrix_input)\n",
    "        loss = lossfunc(result, eye)\n",
    "        loss.backward()\n",
    "        optimizer.step()\n",
    "        epochs.set_postfix(loss=f'{loss.item():.7f}')\n",
    "        if loss.item() < 1e-6:\n",
    "            break\n",
    "\n",
    "    matrix_approximated = array(nw(eye))\n",
    "    print(matrix_approximated)\n",
    "    print(matrix_to_approximate)"
   ]
  },
  {
   "cell_type": "code",
   "execution_count": 7,
   "metadata": {},
   "outputs": [
    {
     "data": {
      "application/vnd.jupyter.widget-view+json": {
       "model_id": "eca4cf351c4146eb9a69c840f9431e6b",
       "version_major": 2,
       "version_minor": 0
      },
      "text/plain": [
       "HBox(children=(FloatProgress(value=0.0, max=500.0), HTML(value='')))"
      ]
     },
     "metadata": {},
     "output_type": "display_data"
    },
    {
     "name": "stdout",
     "output_type": "stream",
     "text": [
      "\n",
      "[[-0.29-0.62j  0.18+0.71j]\n",
      " [-0.34-0.65j -0.2 -0.65j]]\n",
      "[[-0.29-0.62j  0.18+0.71j]\n",
      " [-0.34-0.65j -0.2 -0.65j]]\n"
     ]
    }
   ],
   "source": [
    "check_universality(nw2x2)"
   ]
  },
  {
   "cell_type": "markdown",
   "metadata": {},
   "source": [
    "## 3x3 Unitary Matrix (Reck)"
   ]
  },
  {
   "cell_type": "code",
   "execution_count": 8,
   "metadata": {},
   "outputs": [],
   "source": [
    "class Reck3x3(Network):\n",
    "    def __init__(self):\n",
    "        super(Reck3x3, self).__init__()\n",
    "        self.s1 = pt.Source()\n",
    "        self.s2 = pt.Source()\n",
    "        self.s3 = pt.Source()\n",
    "        self.d1 = pt.Detector()\n",
    "        self.d2 = pt.Detector()\n",
    "        self.d3 = pt.Detector()\n",
    "        self.mzi1 = pt.Mzi(length=0, phi=rand_phase(), theta=rand_phase(), trainable=True)\n",
    "        self.mzi2 = pt.Mzi(length=0, phi=rand_phase(), theta=rand_phase(), trainable=True)\n",
    "        self.mzi3 = pt.Mzi(length=0, phi=rand_phase(), theta=rand_phase(), trainable=True)\n",
    "        self.wg1 = pt.Waveguide(length=0, phase=rand_phase(), trainable=True)\n",
    "        self.wg2 = pt.Waveguide(length=0, phase=rand_phase(), trainable=True)\n",
    "        self.wg3 = pt.Waveguide(length=0, phase=rand_phase(), trainable=True)\n",
    "        self.link(\"s1:0\",                         \"0:mzi1:1\",                        \"0:d1\")\n",
    "        self.link(\"s2:0\",             \"0:mzi2:1\", \"3:mzi1:2\", \"0:mzi3:1\",            \"0:d2\")\n",
    "        self.link(\"s3:0\", \"0:wg1:1\",  \"3:mzi2:2\", \"0:wg2:1\",  \"3:mzi3:2\", \"0:wg3:1\", \"0:d3\")\n",
    "reck3x3 = Reck3x3().to(DEVICE).initialize()"
   ]
  },
  {
   "cell_type": "markdown",
   "metadata": {},
   "source": [
    "### Check Unitarity"
   ]
  },
  {
   "cell_type": "code",
   "execution_count": 9,
   "metadata": {},
   "outputs": [
    {
     "name": "stdout",
     "output_type": "stream",
     "text": [
      "[[ 1.-0.j -0.+0.j  0.-0.j]\n",
      " [-0.-0.j  1.+0.j  0.+0.j]\n",
      " [ 0.+0.j  0.+0.j  1.+0.j]]\n"
     ]
    }
   ],
   "source": [
    "check_unitarity(reck3x3)"
   ]
  },
  {
   "cell_type": "markdown",
   "metadata": {},
   "source": [
    "### Check Universality"
   ]
  },
  {
   "cell_type": "raw",
   "metadata": {},
   "source": [
    "check_universality(reck3x3)"
   ]
  },
  {
   "cell_type": "markdown",
   "metadata": {},
   "source": [
    "## 3x3 Unitary Matrix (Clements)"
   ]
  },
  {
   "cell_type": "code",
   "execution_count": 10,
   "metadata": {},
   "outputs": [],
   "source": [
    "class Clements3x3(Network):\n",
    "    def __init__(self):\n",
    "        super(Clements3x3, self).__init__()\n",
    "        self.s1 = pt.Source()\n",
    "        self.s2 = pt.Source()\n",
    "        self.s3 = pt.Source()\n",
    "        self.d1 = pt.Detector()\n",
    "        self.d2 = pt.Detector()\n",
    "        self.d3 = pt.Detector()\n",
    "        self.mzi1 = pt.Mzi(length=0, phi=rand_phase(), theta=rand_phase(), trainable=True)\n",
    "        self.mzi2 = pt.Mzi(length=0, phi=rand_phase(), theta=rand_phase(), trainable=True)\n",
    "        self.mzi3 = pt.Mzi(length=0, phi=rand_phase(), theta=rand_phase(), trainable=True)\n",
    "        self.wg1 = pt.Waveguide(length=0, phase=rand_phase(), trainable=True)\n",
    "        self.wg2 = pt.Waveguide(length=0, phase=rand_phase(), trainable=True)\n",
    "        self.wg3 = pt.Waveguide(length=0, phase=rand_phase(), trainable=True)\n",
    "        self.link(\"s1:0\", \"0:mzi1:1\",             \"0:mzi3:1\", \"0:wg1:1\", \"0:d1\")\n",
    "        self.link(\"s2:0\", \"3:mzi1:2\", \"0:mzi2:1\", \"3:mzi3:2\", \"0:wg2:1\", \"0:d2\")\n",
    "        self.link(\"s3:0\",             \"3:mzi2:2\",             \"0:wg3:1\", \"0:d3\")\n",
    "clem3x3 = Clements3x3().to(DEVICE).initialize()"
   ]
  },
  {
   "cell_type": "markdown",
   "metadata": {},
   "source": [
    "### Check Unitarity"
   ]
  },
  {
   "cell_type": "code",
   "execution_count": 11,
   "metadata": {},
   "outputs": [
    {
     "name": "stdout",
     "output_type": "stream",
     "text": [
      "[[1.-0.j 0.-0.j 0.+0.j]\n",
      " [0.+0.j 1.+0.j 0.+0.j]\n",
      " [0.-0.j 0.-0.j 1.+0.j]]\n"
     ]
    }
   ],
   "source": [
    "check_unitarity(clem3x3)"
   ]
  },
  {
   "cell_type": "markdown",
   "metadata": {},
   "source": [
    "### Check Universality"
   ]
  },
  {
   "cell_type": "raw",
   "metadata": {},
   "source": [
    "check_universality(clem3x3, num_epochs=1000)"
   ]
  },
  {
   "cell_type": "markdown",
   "metadata": {},
   "source": [
    "## NxN Unitary Matrix (Reck)"
   ]
  },
  {
   "cell_type": "markdown",
   "metadata": {},
   "source": [
    "Creating those networks is quite cumbersome. However they are also implemented by photontorch, which then handles the creation of the networks:"
   ]
  },
  {
   "cell_type": "code",
   "execution_count": 12,
   "metadata": {},
   "outputs": [],
   "source": [
    "reck2x2 = pt.ReckNxN(N=2).to(DEVICE).terminate().initialize()\n",
    "reck5x5 = pt.ReckNxN(N=5).to(DEVICE).terminate().initialize()\n",
    "# quick monkeypatch to have the same behavior as the classes defined above\n",
    "reck5x5.__class__ = Network"
   ]
  },
  {
   "cell_type": "markdown",
   "metadata": {},
   "source": [
    "### Check Unitarity"
   ]
  },
  {
   "cell_type": "code",
   "execution_count": 13,
   "metadata": {},
   "outputs": [
    {
     "name": "stdout",
     "output_type": "stream",
     "text": [
      "[[ 1.+0.j  0.+0.j  0.-0.j -0.-0.j -0.-0.j]\n",
      " [ 0.-0.j  1.-0.j  0.-0.j  0.-0.j  0.+0.j]\n",
      " [ 0.+0.j  0.+0.j  1.-0.j  0.+0.j  0.-0.j]\n",
      " [-0.+0.j  0.+0.j  0.+0.j  1.-0.j  0.+0.j]\n",
      " [-0.+0.j  0.-0.j  0.+0.j  0.-0.j  1.-0.j]]\n"
     ]
    }
   ],
   "source": [
    "check_unitarity(reck5x5)"
   ]
  },
  {
   "cell_type": "markdown",
   "metadata": {},
   "source": [
    "### Check Universality"
   ]
  },
  {
   "cell_type": "code",
   "execution_count": 14,
   "metadata": {},
   "outputs": [
    {
     "data": {
      "application/vnd.jupyter.widget-view+json": {
       "model_id": "865cd28e15364ab7b7f6bbde200a0835",
       "version_major": 2,
       "version_minor": 0
      },
      "text/plain": [
       "HBox(children=(FloatProgress(value=0.0, max=500.0), HTML(value='')))"
      ]
     },
     "metadata": {},
     "output_type": "display_data"
    },
    {
     "name": "stdout",
     "output_type": "stream",
     "text": [
      "\n",
      "[[-0.13-0.32j -0.17+0.09j -0.4 -0.24j  0.56+0.54j  0.1 +0.11j]\n",
      " [-0.32-0.42j  0.1 +0.52j  0.29-0.11j -0.22-0.02j  0.47-0.27j]\n",
      " [-0.39-0.38j -0.49-0.11j -0.24-0.02j -0.28-0.22j -0.48-0.18j]\n",
      " [-0.11-0.4j   0.55-0.27j -0.37+0.29j -0.3 +0.01j  0.11+0.36j]\n",
      " [-0.2 -0.31j  0.22-0.08j  0.63-0.04j  0.36-0.04j -0.42+0.31j]]\n",
      "[[-0.13-0.32j -0.17+0.09j -0.4 -0.24j  0.56+0.54j  0.11+0.11j]\n",
      " [-0.32-0.42j  0.1 +0.52j  0.29-0.11j -0.22-0.02j  0.47-0.27j]\n",
      " [-0.39-0.38j -0.49-0.11j -0.24-0.02j -0.28-0.22j -0.48-0.18j]\n",
      " [-0.12-0.4j   0.55-0.26j -0.37+0.29j -0.3 +0.01j  0.11+0.36j]\n",
      " [-0.2 -0.32j  0.22-0.08j  0.63-0.04j  0.36-0.04j -0.42+0.31j]]\n"
     ]
    }
   ],
   "source": [
    "check_universality(reck5x5)"
   ]
  },
  {
   "cell_type": "markdown",
   "metadata": {},
   "source": [
    "## NxN Unitary Matrix (Clements)"
   ]
  },
  {
   "cell_type": "code",
   "execution_count": 15,
   "metadata": {},
   "outputs": [],
   "source": [
    "clem5x5 = pt.ClementsNxN(N=5).to(DEVICE).terminate().initialize()\n",
    "clem6x6 = pt.ClementsNxN(N=6).to(DEVICE).terminate().initialize()\n",
    "# quick monkeypatch to have the same behavior as the classes defined above\n",
    "clem5x5.__class__ = clem6x6.__class__ = Network"
   ]
  },
  {
   "cell_type": "markdown",
   "metadata": {},
   "source": [
    "### Check Unitarity"
   ]
  },
  {
   "cell_type": "code",
   "execution_count": 16,
   "metadata": {},
   "outputs": [
    {
     "name": "stdout",
     "output_type": "stream",
     "text": [
      "[[ 1.+0.j  0.+0.j -0.+0.j -0.-0.j -0.+0.j]\n",
      " [ 0.-0.j  1.+0.j -0.-0.j  0.-0.j  0.+0.j]\n",
      " [-0.-0.j -0.+0.j  1.-0.j  0.-0.j  0.+0.j]\n",
      " [-0.+0.j  0.+0.j  0.+0.j  1.+0.j -0.-0.j]\n",
      " [-0.-0.j  0.-0.j  0.-0.j -0.+0.j  1.-0.j]]\n",
      "[[ 1.-0.j -0.+0.j -0.+0.j -0.+0.j  0.-0.j -0.+0.j]\n",
      " [-0.-0.j  1.-0.j  0.-0.j -0.+0.j -0.+0.j -0.+0.j]\n",
      " [-0.-0.j  0.+0.j  1.-0.j  0.+0.j -0.-0.j  0.+0.j]\n",
      " [-0.-0.j -0.+0.j  0.-0.j  1.+0.j -0.-0.j  0.+0.j]\n",
      " [ 0.+0.j -0.-0.j -0.+0.j -0.+0.j  1.+0.j -0.+0.j]\n",
      " [-0.-0.j -0.-0.j  0.-0.j  0.+0.j -0.-0.j  1.+0.j]]\n"
     ]
    }
   ],
   "source": [
    "check_unitarity(clem5x5)\n",
    "check_unitarity(clem6x6)"
   ]
  },
  {
   "cell_type": "markdown",
   "metadata": {},
   "source": [
    "### Check Universality"
   ]
  },
  {
   "cell_type": "code",
   "execution_count": 17,
   "metadata": {},
   "outputs": [
    {
     "data": {
      "application/vnd.jupyter.widget-view+json": {
       "model_id": "e47dee09087a46c98c15eacd5aed20bf",
       "version_major": 2,
       "version_minor": 0
      },
      "text/plain": [
       "HBox(children=(FloatProgress(value=0.0, max=1000.0), HTML(value='')))"
      ]
     },
     "metadata": {},
     "output_type": "display_data"
    },
    {
     "name": "stdout",
     "output_type": "stream",
     "text": [
      "\n",
      "[[-0.25-0.18j -0.04-0.77j -0.02+0.09j  0.18-0.47j -0.11+0.19j]\n",
      " [-0.33-0.48j -0.31+0.33j -0.15+0.24j  0.14+0.08j -0.59+0.01j]\n",
      " [-0.3 -0.27j  0.1 -0.32j  0.01-0.09j -0.39+0.7j   0.12+0.24j]\n",
      " [-0.28-0.38j  0.02+0.25j -0.3 -0.63j  0.07-0.27j  0.38+0.04j]\n",
      " [-0.14-0.41j  0.06+0.1j   0.38+0.52j  0.03-0.09j  0.54-0.3j ]]\n",
      "[[-0.25-0.18j -0.04-0.77j -0.02+0.09j  0.18-0.47j -0.1 +0.19j]\n",
      " [-0.33-0.48j -0.31+0.33j -0.15+0.24j  0.14+0.08j -0.59+0.01j]\n",
      " [-0.3 -0.27j  0.1 -0.32j  0.01-0.09j -0.39+0.7j   0.12+0.25j]\n",
      " [-0.28-0.38j  0.02+0.25j -0.3 -0.63j  0.07-0.27j  0.38+0.04j]\n",
      " [-0.14-0.41j  0.06+0.1j   0.38+0.52j  0.03-0.09j  0.54-0.3j ]]\n"
     ]
    },
    {
     "data": {
      "application/vnd.jupyter.widget-view+json": {
       "model_id": "5335cb5ffe264852bc419ed1e4de9b61",
       "version_major": 2,
       "version_minor": 0
      },
      "text/plain": [
       "HBox(children=(FloatProgress(value=0.0, max=1000.0), HTML(value='')))"
      ]
     },
     "metadata": {},
     "output_type": "display_data"
    },
    {
     "name": "stdout",
     "output_type": "stream",
     "text": [
      "\n",
      "[[-0.34-0.27j  0.12-0.31j  0.  -0.04j -0.15+0.42j -0.05-0.68j -0.17-0.11j]\n",
      " [-0.22-0.32j  0.34-0.29j  0.48+0.13j -0.08+0.01j -0.13+0.51j -0.3 +0.15j]\n",
      " [-0.31-0.38j -0.12-0.11j -0.12+0.42j  0.27+0.06j  0.07+0.13j  0.67-0.08j]\n",
      " [-0.25-0.19j  0.01-0.19j -0.61-0.35j -0.18-0.25j -0.14+0.3j  -0.13-0.39j]\n",
      " [-0.37-0.23j -0.32+0.55j  0.13-0.1j  -0.49-0.12j -0.21-0.03j  0.09+0.27j]\n",
      " [-0.31-0.2j   0.25+0.41j -0.16-0.09j  0.58-0.17j  0.27-0.1j  -0.32+0.22j]]\n",
      "[[-0.34-0.27j  0.12-0.31j  0.  -0.04j -0.15+0.42j -0.04-0.68j -0.17-0.11j]\n",
      " [-0.22-0.32j  0.34-0.29j  0.48+0.13j -0.08+0.01j -0.13+0.52j -0.3 +0.14j]\n",
      " [-0.31-0.38j -0.12-0.11j -0.12+0.42j  0.27+0.06j  0.07+0.13j  0.67-0.08j]\n",
      " [-0.25-0.18j  0.01-0.19j -0.61-0.35j -0.18-0.25j -0.14+0.29j -0.13-0.39j]\n",
      " [-0.37-0.23j -0.32+0.55j  0.13-0.1j  -0.49-0.12j -0.21-0.03j  0.09+0.27j]\n",
      " [-0.3 -0.2j   0.25+0.41j -0.16-0.09j  0.58-0.17j  0.27-0.1j  -0.32+0.22j]]\n"
     ]
    }
   ],
   "source": [
    "check_universality(clem5x5, num_epochs=1000)\n",
    "check_universality(clem6x6, num_epochs=1000)"
   ]
  }
 ],
 "metadata": {
  "kernelspec": {
   "display_name": "PT (dev)",
   "language": "python",
   "name": "ptdev"
  },
  "language_info": {
   "codemirror_mode": {
    "name": "ipython",
    "version": 3
   },
   "file_extension": ".py",
   "mimetype": "text/x-python",
   "name": "python",
   "nbconvert_exporter": "python",
   "pygments_lexer": "ipython3",
   "version": "3.7.7"
  }
 },
 "nbformat": 4,
 "nbformat_minor": 4
}
