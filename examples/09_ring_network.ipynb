{
 "cells": [
  {
   "cell_type": "markdown",
   "metadata": {},
   "source": [
    "## Imports"
   ]
  },
  {
   "cell_type": "code",
   "execution_count": null,
   "metadata": {},
   "outputs": [],
   "source": [
    "import torch\n",
    "import numpy as np\n",
    "import matplotlib.pyplot as plt\n",
    "import photontorch as pt\n",
    "from tqdm.notebook import trange\n",
    "\n",
    "torch.manual_seed(42)\n",
    "np.random.seed(33)"
   ]
  },
  {
   "cell_type": "markdown",
   "metadata": {},
   "source": [
    "## Add Drop Filter\n",
    "\n",
    "Let's try to recreate the add drop filter in [02_add_drop.ipynb](02_add_drop.ipynb), but this time using the RingNetwork class:"
   ]
  },
  {
   "cell_type": "code",
   "execution_count": null,
   "metadata": {},
   "outputs": [],
   "source": [
    "env = pt.Environment(\n",
    "    dt = 1e-14,\n",
    "    num_timesteps=2000,\n",
    "    wavelength=1e-6*np.linspace(1.5, 1.6, 1000),\n",
    ")\n",
    "nw = pt.RingNetwork(\n",
    "    N=2,\n",
    "    capacity = 3,\n",
    "    wg_factory = lambda: pt.Waveguide(length=50e-6/2, neff=2.86),\n",
    "    mzi_factory = lambda: pt.DirectionalCoupler(coupling=0.3),\n",
    ").terminate([pt.Source(\"term_in\"), pt.Detector(\"term_pass\"), pt.Detector(\"term_drop\"), pt.Detector(\"term_add\")])\n",
    "with env.copy(wavelength=env.wavelength.mean()):\n",
    "    detected = nw(source=1)\n",
    "    nw.plot(detected)\n",
    "    plt.show()\n",
    "\n",
    "with env.copy(frequency_domain=True, num_timesteps=1):\n",
    "    detected = nw(source=1)\n",
    "    nw.plot(detected)\n",
    "    plt.show()"
   ]
  },
  {
   "cell_type": "markdown",
   "metadata": {},
   "source": [
    "Of course you can create much bigger and complicated ring networks, but that's for another time."
   ]
  }
 ],
 "metadata": {
  "kernelspec": {
   "display_name": "PT (dev)",
   "language": "python",
   "name": "ptdev"
  },
  "language_info": {
   "codemirror_mode": {
    "name": "ipython",
    "version": 3
   },
   "file_extension": ".py",
   "mimetype": "text/x-python",
   "name": "python",
   "nbconvert_exporter": "python",
   "pygments_lexer": "ipython3",
   "version": "3.7.7"
  }
 },
 "nbformat": 4,
 "nbformat_minor": 4
}
